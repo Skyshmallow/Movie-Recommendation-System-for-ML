{
 "cells": [
  {
   "cell_type": "code",
   "execution_count": 8,
   "metadata": {},
   "outputs": [
    {
     "name": "stdout",
     "output_type": "stream",
     "text": [
      "Cleaned dataset saved to cleaned_movies.csv\n"
     ]
    }
   ],
   "source": [
    "import pandas as pd\n",
    "from sklearn.preprocessing import MinMaxScaler\n",
    "\n",
    "# Load dataset\n",
    "file_path = \"movies.csv\"  # Replace with your actual file path\n",
    "movies = pd.read_csv(file_path)\n",
    "\n",
    "# Select relevant columns for preprocessing\n",
    "columns_to_use = ['title', 'genres', 'user_rating', 'keywords', 'director', 'adult']\n",
    "data = movies[columns_to_use]\n",
    "\n",
    "# Handle missing values\n",
    "# Drop rows with missing essential fields\n",
    "data = data.dropna(subset=['title', 'user_rating'])\n",
    "\n",
    "# Fill missing values in categorical columns with a placeholder\n",
    "data['genres'] = data['genres'].fillna('Unknown')\n",
    "data['keywords'] = data['keywords'].fillna('Unknown')\n",
    "data['director'] = data['director'].fillna('Unknown')\n",
    "data['adult'] = data['adult'].fillna(0)  # Assuming adult is binary, replace with 0\n",
    "\n",
    "# Normalize numerical data\n",
    "scaler = MinMaxScaler()\n",
    "data['user_rating'] = scaler.fit_transform(data[['user_rating']])\n",
    "\n",
    "# Encode categorical features\n",
    "# Split genres into a list and perform one-hot encoding\n",
    "data['genres'] = data['genres'].str.split(', ')\n",
    "genres_one_hot = data['genres'].explode().str.get_dummies().groupby(level=0).sum()\n",
    "data = pd.concat([data, genres_one_hot], axis=1)\n",
    "\n",
    "# Remove duplicates\n",
    "# Remove duplicate entries based on the title\n",
    "data = data.drop_duplicates(subset='title', keep='first')\n",
    "\n",
    "# Save cleaned dataset\n",
    "output_file = \"cleaned_movies.csv\"\n",
    "data.to_csv(output_file, index=False)\n",
    "\n",
    "print(f\"Cleaned dataset saved to {output_file}\")\n"
   ]
  },
  {
   "cell_type": "code",
   "execution_count": 4,
   "metadata": {},
   "outputs": [
    {
     "data": {
      "text/html": [
       "<div>\n",
       "<style scoped>\n",
       "    .dataframe tbody tr th:only-of-type {\n",
       "        vertical-align: middle;\n",
       "    }\n",
       "\n",
       "    .dataframe tbody tr th {\n",
       "        vertical-align: top;\n",
       "    }\n",
       "\n",
       "    .dataframe thead th {\n",
       "        text-align: right;\n",
       "    }\n",
       "</style>\n",
       "<table border=\"1\" class=\"dataframe\">\n",
       "  <thead>\n",
       "    <tr style=\"text-align: right;\">\n",
       "      <th></th>\n",
       "      <th>release_year</th>\n",
       "      <th>user_rating</th>\n",
       "      <th>adult</th>\n",
       "    </tr>\n",
       "  </thead>\n",
       "  <tbody>\n",
       "    <tr>\n",
       "      <th>count</th>\n",
       "      <td>5983.000000</td>\n",
       "      <td>6000.000000</td>\n",
       "      <td>6000.000000</td>\n",
       "    </tr>\n",
       "    <tr>\n",
       "      <th>mean</th>\n",
       "      <td>2009.409494</td>\n",
       "      <td>6.397730</td>\n",
       "      <td>0.169167</td>\n",
       "    </tr>\n",
       "    <tr>\n",
       "      <th>std</th>\n",
       "      <td>15.979994</td>\n",
       "      <td>1.479479</td>\n",
       "      <td>0.374930</td>\n",
       "    </tr>\n",
       "    <tr>\n",
       "      <th>min</th>\n",
       "      <td>1915.000000</td>\n",
       "      <td>0.000000</td>\n",
       "      <td>0.000000</td>\n",
       "    </tr>\n",
       "    <tr>\n",
       "      <th>25%</th>\n",
       "      <td>2003.000000</td>\n",
       "      <td>6.000000</td>\n",
       "      <td>0.000000</td>\n",
       "    </tr>\n",
       "    <tr>\n",
       "      <th>50%</th>\n",
       "      <td>2014.000000</td>\n",
       "      <td>6.600000</td>\n",
       "      <td>0.000000</td>\n",
       "    </tr>\n",
       "    <tr>\n",
       "      <th>75%</th>\n",
       "      <td>2022.000000</td>\n",
       "      <td>7.200000</td>\n",
       "      <td>0.000000</td>\n",
       "    </tr>\n",
       "    <tr>\n",
       "      <th>max</th>\n",
       "      <td>2027.000000</td>\n",
       "      <td>10.000000</td>\n",
       "      <td>1.000000</td>\n",
       "    </tr>\n",
       "  </tbody>\n",
       "</table>\n",
       "</div>"
      ],
      "text/plain": [
       "       release_year  user_rating        adult\n",
       "count   5983.000000  6000.000000  6000.000000\n",
       "mean    2009.409494     6.397730     0.169167\n",
       "std       15.979994     1.479479     0.374930\n",
       "min     1915.000000     0.000000     0.000000\n",
       "25%     2003.000000     6.000000     0.000000\n",
       "50%     2014.000000     6.600000     0.000000\n",
       "75%     2022.000000     7.200000     0.000000\n",
       "max     2027.000000    10.000000     1.000000"
      ]
     },
     "execution_count": 4,
     "metadata": {},
     "output_type": "execute_result"
    }
   ],
   "source": [
    "a.describe()\n"
   ]
  },
  {
   "cell_type": "code",
   "execution_count": 5,
   "metadata": {},
   "outputs": [
    {
     "name": "stdout",
     "output_type": "stream",
     "text": [
      "<class 'pandas.core.frame.DataFrame'>\n",
      "RangeIndex: 6000 entries, 0 to 5999\n",
      "Data columns (total 10 columns):\n",
      " #   Column        Non-Null Count  Dtype  \n",
      "---  ------        --------------  -----  \n",
      " 0   title         6000 non-null   object \n",
      " 1   genres        5969 non-null   object \n",
      " 2   release_year  5983 non-null   float64\n",
      " 3   user_rating   6000 non-null   float64\n",
      " 4   keywords      5487 non-null   object \n",
      " 5   director      5962 non-null   object \n",
      " 6   description   5953 non-null   object \n",
      " 7   poster_url    6000 non-null   object \n",
      " 8   trailer_url   5304 non-null   object \n",
      " 9   adult         6000 non-null   int64  \n",
      "dtypes: float64(2), int64(1), object(7)\n",
      "memory usage: 468.9+ KB\n"
     ]
    }
   ],
   "source": [
    "\n",
    "a.info()"
   ]
  }
 ],
 "metadata": {
  "kernelspec": {
   "display_name": "Python 3",
   "language": "python",
   "name": "python3"
  },
  "language_info": {
   "codemirror_mode": {
    "name": "ipython",
    "version": 3
   },
   "file_extension": ".py",
   "mimetype": "text/x-python",
   "name": "python",
   "nbconvert_exporter": "python",
   "pygments_lexer": "ipython3",
   "version": "3.10.6"
  }
 },
 "nbformat": 4,
 "nbformat_minor": 2
}
