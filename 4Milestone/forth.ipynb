{
 "cells": [
  {
   "cell_type": "code",
   "execution_count": 24,
   "metadata": {},
   "outputs": [
    {
     "name": "stdout",
     "output_type": "stream",
     "text": [
      "c:\\Users\\arsen\\Desktop\\new_ML\n"
     ]
    }
   ],
   "source": [
    "import os\n",
    "print(os.getcwd())  # Prints the current working directory\n"
   ]
  },
  {
   "cell_type": "markdown",
   "metadata": {},
   "source": [
    "Might need to change directory\n",
    "```python\n",
    "import os\n",
    "os.chdir('c:/Users/arsen/Desktop/new_ML')\n",
    "```"
   ]
  },
  {
   "cell_type": "code",
   "execution_count": 25,
   "metadata": {},
   "outputs": [],
   "source": [
    "import os\n",
    "os.chdir('c:/Users/arsen/Desktop/new_ML')"
   ]
  },
  {
   "cell_type": "markdown",
   "metadata": {},
   "source": [
    "\n",
    "\n",
    "#### Overview\n",
    "This code defines a function `recommend_movies` that recommends movies based on movie titles given by user<br> \n",
    "It uses \n",
    "1) `cosine similarity` - compares this movies with each other and finds their similarity\n",
    "2) `TF-IDF vectorization` - converts our data to numbers that computer can uderstand <br>\n",
    "\n",
    "and adjustable weights to compute similarity scores across different movie features (e.g., title, keywords, genres). The function then ranks and returns the top recommendations.\n",
    "\n",
    "All logic is inside recommend_movies function in order to reuse further in `evaluation` part<br>\n",
    "recomendation_movies takes these as input\n",
    "  - `input_titles`: List of movie titles to base recommendations on. \n",
    "  - `data_path`: Path to the CSV file containing movie data.\n",
    "  - `top_n`: Number of recommendations to return.\n",
    "  - `weights`: Dictionary of weights for different features <br>\n",
    "\n",
    "each has default value, so writing only `input_titles` is mandatory<br>\n",
    "as output it gives titles of movies.\n",
    "\n",
    "\n",
    "<br>\n",
    "\n",
    "### How features are used?\n",
    "1) computed cosine similarity for `title`, `keywords`, `director` and *separatly* one hot encoded version of `genres`\n",
    "<br>\n",
    "\n",
    "2) using `user_rating` preferebly showing higher rating movies, but it weight is \"powered\", so slightest change could change recomendatino entirely <br>\n",
    "\n",
    "3) penalizing 'adult' feature if there is no adult movie in given as input<br>\n",
    "\n",
    "<br>\n",
    "<br>\n",
    "\n",
    "## Boring code part explanation(you may skeep)\n",
    "\n",
    "```python\n",
    "if weights is None:\n",
    "    weights = {\n",
    "        'title': 1.0,\n",
    "        'user_rating': 0.1,\n",
    "        'keywords': 1.5,\n",
    "        'director': 0.8,\n",
    "        'adult': 1.0,\n",
    "        'genres': 0.4\n",
    "    }\n",
    "```\n",
    "- **Default Weights**: Assigns default weights to features if none are provided. \n",
    "  - `title`, `keywords`, `director`, etc. are given specific weights for their influence on recommendations.\n",
    "  <br>\n",
    "\n",
    "\n",
    "\n",
    "\n",
    "### Computing TF-IDF and Similarities\n",
    "\n",
    "```python\n",
    "tfidf_title = TfidfVectorizer(stop_words='english')\n",
    "title_matrix = tfidf_title.fit_transform(movies_df['title'].fillna(''))\n",
    "```\n",
    "- **TF-IDF**: Vectorizes feature to compute similarities.\n",
    "- **Stop Words** we need `stop_words` parameter for removing unessecary text parts like `a`, `the`, `an` etc.<br>\n",
    "title, keywords, director features <br>\n",
    "\n",
    "```python\n",
    "title_similarity = cosine_similarity(title_matrix, title_matrix) * weights['title']\n",
    "keywords_similarity = cosine_similarity(keywords_matrix, keywords_matrix) * weights['keywords']\n",
    "director_similarity = cosine_similarity(director_matrix, director_matrix) * weights['director']\n",
    "```\n",
    "- **Cosine Similarity**: Computes pairwise similarity scores for titles, keywords, and directors. Scales these scores using the respective weights.\n",
    "\n",
    "\n",
    "### Genre Similarity\n",
    "\n",
    "```python\n",
    "genre_columns = ['Action', 'Adventure', 'Animation', ...]\n",
    "genre_matrix = movies_df[genre_columns].values\n",
    "genre_similarity = cosine_similarity(genre_matrix, genre_matrix)\n",
    "```\n",
    "- **Genre Features**: Uses binary-encoded genre columns for similarity computation.\n",
    "\n",
    "```python\n",
    "total_similarity = (\n",
    "    textual_similarity * (1 - weights['genres']) +\n",
    "    genre_similarity * weights['genres']\n",
    ")\n",
    "```\n",
    "- **Combining Similarities**: Merges textual and genre similarities, weighted appropriately.\n",
    "\n",
    "### Input Movie Indices\n",
    "\n",
    "```python\n",
    "movie_indices = []\n",
    "for title in input_titles:\n",
    "    if title in movies_df['title'].values:\n",
    "        idx = movies_df[movies_df['title'] == title].index\n",
    "        if len(idx) > 0:\n",
    "            movie_indices.append(idx[0])\n",
    "```\n",
    "- **Find Input Indices**: Locates indices of the user-specified movie titles in the dataset.\n",
    "\n",
    "### Adjusting and Ranking Recommendations\n",
    "\n",
    "```python\n",
    "sim_scores = total_similarity[movie_indices].sum(axis=0)\n",
    "sim_scores = sim_scores * (movies_df['user_rating'] ** weights['user_rating'])\n",
    "```\n",
    "- **Aggregate Scores**: Computes cumulative similarity scores for input movies.\n",
    "- **Rating Adjustment**: Multiplies scores by user ratings, weighted accordingly.\n",
    "\n",
    "```python\n",
    "if not any(movies_df.iloc[idx]['adult'] for idx in movie_indices):\n",
    "    sim_scores[movies_df['adult'] == True] *= 0.5\n",
    "```\n",
    "- **Adult Movies Penalty**: Reduces scores for adult movies if none of the input movies are marked as adult.\n",
    "\n",
    "```python\n",
    "sim_scores = [(i, score) for i, score in enumerate(sim_scores)]\n",
    "sim_scores = sorted(sim_scores, key=lambda x: x[1], reverse=True)\n",
    "```\n",
    "- **Sort Results**: Sorts similarity scores in descending order.\n",
    "\n",
    "### Filter and Return Results\n",
    "\n",
    "```python\n",
    "input_indices = set(movie_indices)\n",
    "recommendations = [(i, score) for i, score in sim_scores if i not in input_indices and score > 0]\n",
    "```\n",
    "- **Exclude Input Movies**: Removes input movies from the recommendation list.\n",
    "\n",
    "```python\n",
    "top_recommendations = recommendations[:top_n]\n",
    "recommended_titles = [movies_df.iloc[i]['title'] for i, _ in top_recommendations]\n",
    "```\n",
    "- **Return Top N**: Retrieves titles for the top `n` recommendations.\n"
   ]
  },
  {
   "cell_type": "code",
   "execution_count": 26,
   "metadata": {},
   "outputs": [],
   "source": [
    "import pandas as pd\n",
    "from sklearn.metrics.pairwise import cosine_similarity\n",
    "from sklearn.feature_extraction.text import TfidfVectorizer\n",
    "import numpy as np\n",
    "from sklearn.metrics import mean_absolute_error, mean_squared_error\n",
    "\n",
    "def recommend_movies(input_titles, data_path='cleaned_movies.csv', top_n=20, weights=None):\n",
    "    \"\"\"\n",
    "    Recommend movies based on input movie titles using multiple features with adjustable weights.\n",
    "    \"\"\"\n",
    "    \n",
    "    # loading data\n",
    "    movies_df = pd.read_csv(data_path)\n",
    "\n",
    "    # Recommendation settings(Weights), \n",
    "    # that will apply if not provided\n",
    "    if weights is None:\n",
    "        weights = {\n",
    "            'title': 1.0,                                    \n",
    "            'user_rating': 0.1,\n",
    "            'keywords': 1.5,\n",
    "            'director': 0.8,\n",
    "            'adult': 1.0,\n",
    "            'genres': 0.4\n",
    "        }\n",
    "\n",
    "    # separate computation of TF-IDF for each feature\n",
    "    tfidf_title = TfidfVectorizer(stop_words='english')\n",
    "    title_matrix = tfidf_title.fit_transform(movies_df['title'].fillna(''))\n",
    "\n",
    "    tfidf_keywords = TfidfVectorizer(stop_words='english')\n",
    "    keywords_matrix = tfidf_keywords.fit_transform(movies_df['keywords'].fillna(''))\n",
    "\n",
    "    tfidf_director = TfidfVectorizer(stop_words='english')\n",
    "    director_matrix = tfidf_director.fit_transform(movies_df['director'].fillna(''))\n",
    "\n",
    "    # Compute cosine similarities for each feature\n",
    "    # when you pass itself twice(title_matrix, title_matrix) it will compute similarity between each movie with each other\n",
    "    title_similarity = cosine_similarity(title_matrix, title_matrix) * weights['title']\n",
    "    keywords_similarity = cosine_similarity(keywords_matrix, keywords_matrix) * weights['keywords']\n",
    "    director_similarity = cosine_similarity(director_matrix, director_matrix) * weights['director']\n",
    "\n",
    "    # Combining similarities\n",
    "    textual_similarity = title_similarity + keywords_similarity + director_similarity\n",
    "\n",
    "\n",
    "    # for Genre hot coded version computing sim_score\n",
    "    genre_columns = [\n",
    "        'Action', 'Adventure', 'Animation', 'Comedy', 'Crime', 'Documentary',\n",
    "        'Drama', 'Family', 'Fantasy', 'History', 'Horror', 'Music', 'Mystery',\n",
    "        'Romance', 'Science Fiction', 'TV Movie', 'Thriller', 'Unknown', 'War', 'Western'\n",
    "    ]\n",
    "    genre_matrix = movies_df[genre_columns].values\n",
    "    genre_similarity = cosine_similarity(genre_matrix, genre_matrix)\n",
    "\n",
    "    # Genre + (title+keywords+director) similarity\n",
    "    total_similarity = (\n",
    "    textual_similarity * (1 - weights['genres']) +\n",
    "    genre_similarity * weights['genres']\n",
    "    )\n",
    "\n",
    "    # finding movie indices of input titles\n",
    "    movie_indices = []\n",
    "    for title in input_titles:\n",
    "        if title in movies_df['title'].values:\n",
    "            idx = movies_df[movies_df['title'] == title].index\n",
    "            if len(idx) > 0:\n",
    "                movie_indices.append(idx[0])\n",
    "\n",
    "    # Handle empty input case\n",
    "    if not movie_indices:\n",
    "        print(\"No valid movie indices found. Check input titles.\")\n",
    "        return []\n",
    "\n",
    "    # total_sim is matrix of sim_score between all movies\n",
    "    # movie_indices is movies we want \n",
    "    # then we just sum all sim_score of movies we want\n",
    "    sim_scores = total_similarity[movie_indices].sum(axis=0)\n",
    "\n",
    "    # Adjust similarity scores based on user ratings\n",
    "    # so it will recommend movies with higher user rating\n",
    "    sim_scores = sim_scores * (movies_df['user_rating'] ** weights['user_rating'])\n",
    "    \n",
    "\n",
    "    # Penalize adult movies if the input movie is not marked as adult\n",
    "    if not any(movies_df.iloc[idx]['adult'] for idx in movie_indices):\n",
    "        sim_scores[movies_df['adult'] == True] *= 0.5  # Penalizing for 50%\n",
    "\n",
    "    # Sort and filter results\n",
    "    # most similar movies will be on top\n",
    "    sim_scores = [(i, score) for i, score in enumerate(sim_scores)]\n",
    "    sim_scores = sorted(sim_scores, key=lambda x: x[1], reverse=True)\n",
    "\n",
    "\n",
    "    # filtering input movies, so they wont be in output\n",
    "    input_indices = set(movie_indices)\n",
    "    recommendations = [(i, score) for i, score in sim_scores if i not in input_indices and score > 0]\n",
    "\n",
    "    # Getin top N recommendations\n",
    "    top_recommendations = recommendations[:top_n]\n",
    "    recommended_titles = [movies_df.iloc[i]['title'] for i, _ in top_recommendations]\n",
    "\n",
    "    return recommended_titles\n"
   ]
  },
  {
   "cell_type": "markdown",
   "metadata": {},
   "source": [
    "# Evaluation part\n",
    "\n",
    "Because we don't have any truth ground(list of recomendation that user 100% likes) and no one could possible get that <br>\n",
    "So we will evaluate without numbers but our sheer logic and eyes by using/testing\n",
    "<br>\n",
    "First let's change weights little bit (you may change it too for your testing)<br>\n",
    "and then test cases will appear"
   ]
  },
  {
   "cell_type": "code",
   "execution_count": null,
   "metadata": {},
   "outputs": [
    {
     "name": "stdout",
     "output_type": "stream",
     "text": [
      "Recommended Movies: ['No Manches Frida', 'Odio el verano', 'The Woman in Black', 'The Hidden Face', 'Exorcist: The Beginning', \"Mothers' Instinct\", 'Thir13en Ghosts', 'Chloe', 'Girl', 'Usogui', 'The Wolfman', 'Bad Genius', 'The Medium', 'Hereditary', 'Inheritance', 'Speak No Evil', 'The Ritual', 'Cargo', 'Hidden', 'Crawl']\n"
     ]
    }
   ],
   "source": [
    "# i think it is best settings\n",
    "weights = {\n",
    "    'title': 0.5,\n",
    "    'user_rating': 0.1,\n",
    "    'keywords': 1.5,\n",
    "    'director': 0.4,\n",
    "    'adult': 1.0,\n",
    "    'genres': 0.4\n",
    "}\n"
   ]
  },
  {
   "cell_type": "markdown",
   "metadata": {},
   "source": [
    "\n",
    "### **Test Case 1: Family-Friendly Animated Movies**\n",
    "\n",
    "**Objective**: Validate that the system recommends movies suitable for all ages in the animated genre.  \n",
    "**Input Movies**:  \n",
    "*\"Moana\"*, *\"Atlantis: The Lost Empire\"*, *\"Ruby Gillman, Teenage Kraken\"*  \n",
    "**Expected Outcome**: Recommendations include similar family-friendly animated movies like *\"Frozen\"*, *\"The Incredibles\"*, or *\"Zootopia\"*.\n"
   ]
  },
  {
   "cell_type": "code",
   "execution_count": 36,
   "metadata": {},
   "outputs": [
    {
     "name": "stdout",
     "output_type": "stream",
     "text": [
      "Test Case 1: Family-Friendly Animated Movies\n",
      "Recommended Movies: ['Moana 2', 'The Croods', 'The SpongeBob Movie: Sponge Out of Water', 'Spellbound', 'The Lego Movie', 'Christopher Robin', 'Monsters, Inc.', \"The Emperor's New Groove\", 'The Secret Life of Pets 2', 'Luca', 'Once Upon a Studio', 'The Loud House Movie', 'Tom & Jerry', 'Vivo', 'The Smurfs', 'Playmobil: The Movie', 'The Pirates! In an Adventure with Scientists!', 'The Garfield Movie', 'Bolt', 'The Emoji Movie']\n"
     ]
    }
   ],
   "source": [
    "print(\"Test Case 1: Family-Friendly Animated Movies\")\n",
    "print(\"Recommended Movies:\", recommend_movies([\"Moana\", \"Atlantis: The Lost Empire\", \"Ruby Gillman, Teenage Kraken\"], weights=weights))"
   ]
  },
  {
   "cell_type": "markdown",
   "metadata": {},
   "source": [
    "\n",
    "---\n",
    "\n",
    "### **Test Case 2: Movies by a Specific Director**\n",
    "  \n",
    "**Objective**: Test the system's ability to recommend movies directed by a specific filmmaker.  \n",
    "**Input Movies**:  \n",
    "*\"Inception\"*, *\"Interstellar\"*, *\"The Dark Knight\"*  \n",
    "**Expected Outcome**: Recommendations should include other Christopher Nolan movies, such as *\"Tenet\"*, *\"Dunkirk\"*, or *\"The Prestige\"*.\n"
   ]
  },
  {
   "cell_type": "code",
   "execution_count": 29,
   "metadata": {},
   "outputs": [
    {
     "name": "stdout",
     "output_type": "stream",
     "text": [
      "Test Case 2: Movies by a Specific Director\n",
      "Recommended Movies: ['The Dark Knight Rises', 'Batman Begins', 'Tenet', 'The Prestige', 'Dunkirk', 'Insomnia', 'Oppenheimer', 'Jack Reacher', 'Planet of the Apes', 'Spaceman', 'Stargate: The Ark of Truth', 'Elysium', 'Rebel Moon - Part One: A Child of Fire', 'The Midnight Sky', 'Sunshine', 'Memento', 'Avengers: Endgame', 'Law Abiding Citizen', 'Space Battleship Yamato', 'Arrival']\n"
     ]
    }
   ],
   "source": [
    "print(\"Test Case 2: Movies by a Specific Director\")\n",
    "print(\"Recommended Movies:\", recommend_movies([\"Inception\", \"Interstellar\", \"The Dark Knight\"], weights=weights))\n"
   ]
  },
  {
   "cell_type": "markdown",
   "metadata": {},
   "source": [
    "\n",
    "---\n",
    "\n",
    "### **Test Case 3: Post-Apocalyptic or Dystopian Movies**\n",
    "\n",
    "**Objective**: Test recommendations for movies with themes of apocalypse or dystopia.  \n",
    "**Input Movies**:  \n",
    "*\"Mad Max: Fury Road\"*, *\"The Hunger Games\"*, *\"Children of Men\"*  \n",
    "**Expected Outcome**: Recommendations should include similar movies, such as *\"The Road\"*, *\"Snowpiercer\"*, or *\"Edge of Tomorrow\"*.\n"
   ]
  },
  {
   "cell_type": "code",
   "execution_count": 30,
   "metadata": {},
   "outputs": [
    {
     "name": "stdout",
     "output_type": "stream",
     "text": [
      "Test Case 3: Post-Apocalyptic or Dystopian Movies\n",
      "Recommended Movies: ['The Hunger Games: Mockingjay - Part 1', 'The Hunger Games: Mockingjay - Part 2', 'Chaos Walking', 'Furiosa: A Mad Max Saga', 'Mad Max Beyond Thunderdome', 'Mad Max', 'The Hunger Games: Catching Fire', 'Battle for the Planet of the Apes', 'Mortal Engines', 'Divergent', 'Allegiant', 'The Day', 'Maze Runner: The Scorch Trials', 'The Postman', 'After Earth', 'The Time Machine', 'Vampire Hunter D: Bloodlust', 'The 5th Wave', 'The Running Man', 'The Maze Runner']\n"
     ]
    }
   ],
   "source": [
    "print(\"Test Case 3: Post-Apocalyptic or Dystopian Movies\")\n",
    "print(\"Recommended Movies:\", recommend_movies([\"Mad Max: Fury Road\", \"The Hunger Games\", \"Children of Men\"], weights=weights))"
   ]
  },
  {
   "cell_type": "markdown",
   "metadata": {},
   "source": [
    "---\n",
    "\n",
    "### **Test Case 4: Holiday-Themed Movies**\n",
    "\n",
    "**Objective**: Test recommendations for movies centered around Christmas or similar holidays.  \n",
    "**Input Movies**:  \n",
    "*\"Home Alone\"*, *\"Elf\"*, *\"The Polar Express\"*  \n",
    "**Expected Outcome**: Recommendations could include other holiday-themed films, such as *\"The Grinch\"*, *\"The Santa Clause\"*, or *\"Love Actually\"*.\n"
   ]
  },
  {
   "cell_type": "code",
   "execution_count": 31,
   "metadata": {},
   "outputs": [
    {
     "name": "stdout",
     "output_type": "stream",
     "text": [
      "Test Case 4: Holiday-Themed Movies\n",
      "Recommended Movies: ['The Boss Baby: Christmas Bonus', 'A Christmas Carol', 'Prep & Landing', 'The Search for Santa Paws', 'The Flight Before Christmas', 'The Nightmare Before Christmas', 'The Santa Clause 3: The Escape Clause', 'Rudolph the Red-Nosed Reindeer', 'A Boy Called Christmas', 'Joseph: King of Dreams', 'Noelle', 'Prep & Landing Stocking Stuffer: Operation: Secret Santa', 'Anastasia', 'The Naughty Nine', 'Rudolph the Red-Nosed Reindeer & the Island of Misfit Toys', 'Arthur Christmas', 'An Almost Christmas Story', \"Roald Dahl's The Witches\", 'Beowulf', \"Olaf's Frozen Adventure\"]\n"
     ]
    }
   ],
   "source": [
    "\n",
    "print(\"Test Case 4: Holiday-Themed Movies\")\n",
    "print(\"Recommended Movies:\", recommend_movies([\"Home Alone\", \"Elf\", \"The Polar Express\"], weights=weights))\n"
   ]
  },
  {
   "cell_type": "markdown",
   "metadata": {},
   "source": [
    "---\n",
    "\n",
    "### **Test Case 5: Movies Featuring Monsters**\n",
    " \n",
    "**Objective**: Test recommendations for films where monsters play a central role.  \n",
    "**Input Movies**:  \n",
    "*\"Monsters, Inc.\"*, *\"Jurassic Park\"*, *\"King Kong\"*  \n",
    "**Expected Outcome**: Recommendations could include other monster-related films like *\"Godzilla\"*, *\"Pacific Rim\"*, or *\"Cloverfield\"*.\n"
   ]
  },
  {
   "cell_type": "code",
   "execution_count": 32,
   "metadata": {},
   "outputs": [
    {
     "name": "stdout",
     "output_type": "stream",
     "text": [
      "Test Case 5: Movies Featuring Monsters\n",
      "Recommended Movies: ['Godzilla vs. Kong', 'Jurassic World', 'Godzilla x Kong: The New Empire', 'Kong: Skull Island', 'Monsters vs Aliens', 'Rampage', 'The Son of Kong', 'The Good Dinosaur', 'Love and Monsters', 'Inside Out', 'Up', 'Wonder Park', 'Pacific Rim', 'Spy Kids 2: The Island of Lost Dreams', 'Indiana Jones and the Temple of Doom', 'Cast Away', 'The Angry Birds Movie', 'Ant-Man and the Wasp', 'The Nut Job', 'Godzilla: King of the Monsters']\n"
     ]
    }
   ],
   "source": [
    "\n",
    "print(\"Test Case 5: Movies Featuring Monsters\")\n",
    "print(\"Recommended Movies:\", recommend_movies([\"Monsters, Inc.\", \"Jurassic Park\", \"King Kong\"], weights=weights))\n"
   ]
  },
  {
   "cell_type": "markdown",
   "metadata": {},
   "source": [
    "\n",
    "\n",
    "---\n",
    "\n",
    "### **Test Case 6: Biographical Movies about Musicians**\n",
    "\n",
    "**Objective**: Validate recommendations for biographical movies that focus on the lives of musicians.  \n",
    "**Input Movies**:  \n",
    "*\"Bohemian Rhapsody\"*, *\"Rocketman\"*, *\"Walk the Line\"*  \n",
    "**Expected Outcome**: Recommendations could include *\"Ray\"*, *\"Straight Outta Compton\"*, or *\"La Bamba\"*.\n",
    "\n"
   ]
  },
  {
   "cell_type": "code",
   "execution_count": 33,
   "metadata": {},
   "outputs": [
    {
     "name": "stdout",
     "output_type": "stream",
     "text": [
      "Test Case 6: Biographical Movies about Musicians\n",
      "Recommended Movies: ['Maria', 'TÁR', 'A Star Is Born', 'Maestro', 'Ray', 'Inside Llewyn Davis', 'Back to Black', 'Almost Famous', 'TAYLOR SWIFT | THE ERAS TOUR', 'The Bee Gees: How Can You Mend a Broken Heart', 'I Still Believe', '9 Songs', 'My Policeman', 'CODA', 'Jesus Christ Superstar', 'Vox Lux', 'Unsung Hero', 'Straight Outta Compton', '8 Mile', 'Bob Marley: One Love']\n"
     ]
    }
   ],
   "source": [
    "\n",
    "print(\"Test Case 6: Biographical Movies about Musicians\")\n",
    "print(\"Recommended Movies:\", recommend_movies([\"Bohemian Rhapsody\", \"Rocketman\", \"Walk the Line\"], weights=weights))\n"
   ]
  },
  {
   "cell_type": "markdown",
   "metadata": {},
   "source": [
    "\n",
    "\n",
    "---\n",
    "\n",
    "### **Test Case 7: Superhero Movies with Team Dynamics**\n",
    "  \n",
    "**Objective**: Test recommendations for superhero movies where team dynamics are a significant theme.  \n",
    "**Input Movies**:  \n",
    "*\"The Avengers\"*, *\"Guardians of the Galaxy\"*, *\"X-Men: Days of Future Past\"*  \n",
    "**Expected Outcome**: Recommendations could include *\"Justice League\"*, *\"Fantastic Four\"*, or *\"Watchmen\"*.\n",
    "\n"
   ]
  },
  {
   "cell_type": "code",
   "execution_count": 34,
   "metadata": {},
   "outputs": [
    {
     "name": "stdout",
     "output_type": "stream",
     "text": [
      "Test Case 7: Superhero Movies with Team Dynamics\n",
      "Recommended Movies: ['Guardians of the Galaxy Vol. 2', 'Guardians of the Galaxy Vol. 3', 'The Marvels', 'Ant-Man and the Wasp: Quantumania', 'Iron Man 2', 'The Guardians of the Galaxy Holiday Special', 'Captain America: The Winter Soldier', 'X-Men: Apocalypse', 'Spider-Man: Far From Home', 'Avengers: Infinity War', 'Iron Man', 'Spider-Man: Homecoming', 'Iron Man 3', 'Avengers: Endgame', 'Thor: Ragnarok', 'Doctor Strange in the Multiverse of Madness', 'Superman Returns', 'Black Widow', 'Ant-Man', 'Spider-Man: Into the Spider-Verse']\n"
     ]
    }
   ],
   "source": [
    "\n",
    "print(\"Test Case 7: Superhero Movies with Team Dynamics\")\n",
    "print(\"Recommended Movies:\", recommend_movies([\"The Avengers\", \"Guardians of the Galaxy\", \"X-Men: Days of Future Past\"], weights=weights))\n"
   ]
  },
  {
   "cell_type": "markdown",
   "metadata": {},
   "source": [
    "\n",
    "\n",
    "---\n",
    "\n",
    "### **Test Case 8: Sci-Fi with AI and Robotics**\n",
    " \n",
    "**Objective**: Test recommendations for sci-fi movies that feature AI and robotics as central elements.  \n",
    "**Input Movies**:  \n",
    "*\"Ex Machina\"*, *\"I, Robot\"*, *\"Blade Runner 2049\"*  \n",
    "**Expected Outcome**: Recommendations include *\"The Matrix\"*, *\"Ghost in the Shell\"*, or *\"Westworld\"*.\n",
    "\n"
   ]
  },
  {
   "cell_type": "code",
   "execution_count": 35,
   "metadata": {},
   "outputs": [
    {
     "name": "stdout",
     "output_type": "stream",
     "text": [
      "Test Case 8: Sci-Fi with AI and Robotics\n",
      "Recommended Movies: ['Blade Runner', 'Cloud Atlas', 'Bicentennial Man', 'Moon', 'Arrival', 'A.I. Rising', 'The Man Who Fell to Earth', 'The Giver', 'Melancholia', 'JUNG_E', 'The Midnight Sky', 'The Circle', 'The Beast', 'Interstellar', 'Logan', 'The Man from Earth', 'WarGames', 'Proximity', 'Aire: Just Breathe', 'Space Sweepers']\n"
     ]
    }
   ],
   "source": [
    "\n",
    "print(\"Test Case 8: Sci-Fi with AI and Robotics\")\n",
    "print(\"Recommended Movies:\", recommend_movies([\"Ex Machina\", \"I, Robot\", \"Blade Runner 2049\"], weights=weights))\n"
   ]
  }
 ],
 "metadata": {
  "kernelspec": {
   "display_name": "Python 3",
   "language": "python",
   "name": "python3"
  },
  "language_info": {
   "codemirror_mode": {
    "name": "ipython",
    "version": 3
   },
   "file_extension": ".py",
   "mimetype": "text/x-python",
   "name": "python",
   "nbconvert_exporter": "python",
   "pygments_lexer": "ipython3",
   "version": "3.10.6"
  }
 },
 "nbformat": 4,
 "nbformat_minor": 2
}
